{
  "nbformat": 4,
  "nbformat_minor": 0,
  "metadata": {
    "colab": {
      "name": "CALTECH HW4.ipynb",
      "provenance": []
    },
    "kernelspec": {
      "name": "python3",
      "display_name": "Python 3"
    }
  },
  "cells": [
    {
      "cell_type": "code",
      "metadata": {
        "id": "I2KPfPyDnxpd",
        "colab_type": "code",
        "colab": {}
      },
      "source": [
        "import numpy as np\n",
        "from statistics import mean\n",
        "PI=np.pi"
      ],
      "execution_count": 12,
      "outputs": []
    },
    {
      "cell_type": "code",
      "metadata": {
        "id": "ES00QDWyn8eX",
        "colab_type": "code",
        "colab": {}
      },
      "source": [
        "def get_input(n):\n",
        "  return np.random.uniform(-1,1,n)\n"
      ],
      "execution_count": 87,
      "outputs": []
    },
    {
      "cell_type": "code",
      "metadata": {
        "id": "wGLUA2QlobZJ",
        "colab_type": "code",
        "colab": {}
      },
      "source": [
        "def produce_output(x):\n",
        "  return np.sin(PI*x)"
      ],
      "execution_count": 7,
      "outputs": []
    },
    {
      "cell_type": "code",
      "metadata": {
        "id": "Vo-Wv82TvxSF",
        "colab_type": "code",
        "colab": {
          "base_uri": "https://localhost:8080/",
          "height": 67
        },
        "outputId": "bce7f8a6-5c5a-4d72-bd4f-8ca084679aea"
      },
      "source": [
        "print(x)\n",
        "print(x**2)"
      ],
      "execution_count": 47,
      "outputs": [
        {
          "output_type": "stream",
          "text": [
            "[-0.84006927 -0.08883252]\n",
            "[0.70571638 0.00789122]\n",
            "0.7057163783983329\n"
          ],
          "name": "stdout"
        }
      ]
    },
    {
      "cell_type": "code",
      "metadata": {
        "id": "qBiF5aYtoepH",
        "colab_type": "code",
        "colab": {
          "base_uri": "https://localhost:8080/",
          "height": 33
        },
        "outputId": "b30a5055-2926-475b-cfb0-e587511f05a5"
      },
      "source": [
        "L=[]\n",
        "n=1000000\n",
        "for i in range(n):\n",
        "  x=get_input(2)\n",
        "  y=produce_output(x)\n",
        "  a=np.sum(x*y)/(np.sum(x**2))\n",
        "  L.append(a)\n",
        "print(mean(L))"
      ],
      "execution_count": 109,
      "outputs": [
        {
          "output_type": "stream",
          "text": [
            "1.4293055977346725\n"
          ],
          "name": "stdout"
        }
      ]
    },
    {
      "cell_type": "code",
      "metadata": {
        "id": "uFEkfyARrtYJ",
        "colab_type": "code",
        "colab": {}
      },
      "source": [
        "a_f=mean(L)"
      ],
      "execution_count": 101,
      "outputs": []
    },
    {
      "cell_type": "code",
      "metadata": {
        "id": "A39jsVcuqfQZ",
        "colab_type": "code",
        "colab": {
          "base_uri": "https://localhost:8080/",
          "height": 33
        },
        "outputId": "676878ff-dc0b-479a-e006-403227e2e8e4"
      },
      "source": [
        "E=[]\n",
        "for j in range(1000000):\n",
        "  x_e=np.random.uniform(-1,1)\n",
        "  e=(a_f*x_e-produce_output(x_e))**2\n",
        "  E.append(e)\n",
        "print(mean(E))  "
      ],
      "execution_count": 54,
      "outputs": [
        {
          "output_type": "stream",
          "text": [
            "0.27051644171598876\n"
          ],
          "name": "stdout"
        }
      ]
    },
    {
      "cell_type": "code",
      "metadata": {
        "id": "9BUakPkDsbck",
        "colab_type": "code",
        "colab": {
          "base_uri": "https://localhost:8080/",
          "height": 33
        },
        "outputId": "ca90cc2c-926d-4323-94c6-fa598bb893d7"
      },
      "source": [
        "E_var=[]\n",
        "for j in range(1000):\n",
        " x_f=get_input(1)\n",
        " for k in range(100):\n",
        "  x=get_input(2)\n",
        "  y=produce_output(x)\n",
        "  a=np.sum(x*y)/(np.sum(x**2))\n",
        "  e=np.sum(((a_f-a)*x_f)**2)\n",
        "  E_var.append(e)\n",
        "print(mean(E_var))  "
      ],
      "execution_count": 89,
      "outputs": [
        {
          "output_type": "stream",
          "text": [
            "0.2351337192403769\n"
          ],
          "name": "stdout"
        }
      ]
    },
    {
      "cell_type": "code",
      "metadata": {
        "id": "5VexDISY4nWf",
        "colab_type": "code",
        "colab": {
          "base_uri": "https://localhost:8080/",
          "height": 33
        },
        "outputId": "4716d345-e8e5-4b45-b172-a590b5414d80"
      },
      "source": [
        "x;y;a;e"
      ],
      "execution_count": 83,
      "outputs": [
        {
          "output_type": "execute_result",
          "data": {
            "text/plain": [
              "0.22745981450309738"
            ]
          },
          "metadata": {
            "tags": []
          },
          "execution_count": 83
        }
      ]
    },
    {
      "cell_type": "code",
      "metadata": {
        "id": "0QsCXJCIsg54",
        "colab_type": "code",
        "colab": {
          "base_uri": "https://localhost:8080/",
          "height": 33
        },
        "outputId": "ad9a0faa-17e3-48a0-e4ef-4854b498e220"
      },
      "source": [
        "E_tot=[]\n",
        "for j in range(10000):\n",
        " x_f=get_input(1)\n",
        " y_f=produce_output(x_f)\n",
        " for k in range(100):\n",
        "  x=get_input(2)\n",
        "  y=produce_output(x)\n",
        "  a=np.sum(x*y)/(np.sum(x**2))\n",
        "  e=np.sum(((y_f-a*x_f)**2))\n",
        "  E_tot.append(e)\n",
        "print(mean(E_tot))  "
      ],
      "execution_count": 115,
      "outputs": [
        {
          "output_type": "stream",
          "text": [
            "0.504082804628539\n"
          ],
          "name": "stdout"
        }
      ]
    },
    {
      "cell_type": "code",
      "metadata": {
        "id": "kOHjLRwxzLdC",
        "colab_type": "code",
        "colab": {}
      },
      "source": [
        "E_tot"
      ],
      "execution_count": null,
      "outputs": []
    }
  ]
}